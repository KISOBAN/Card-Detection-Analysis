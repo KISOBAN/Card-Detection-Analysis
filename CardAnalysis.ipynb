{
 "cells": [
  {
   "cell_type": "code",
   "execution_count": null,
   "id": "75bd25b7",
   "metadata": {},
   "outputs": [
    {
     "name": "stdout",
     "output_type": "stream",
     "text": [
      "Status check All clear\n",
      "[[[668.5  28.5  29.3]\n",
      "  [566.5  27.5  27.2]\n",
      "  [199.5  29.5  29.4]\n",
      "  [508.5  29.5  27.1]\n",
      "  [254.5  27.5  27.1]\n",
      "  [615.5  28.5  29.3]\n",
      "  [356.5  27.5  26.1]\n",
      "  [303.5  30.5  26. ]\n",
      "  [146.5  29.5  29.4]\n",
      "  [406.5  28.5  28.2]\n",
      "  [460.5  29.5  26.1]\n",
      "  [ 96.5  28.5  26. ]]]\n"
     ]
    }
   ],
   "source": [
    "import tensorflow as tf\n",
    "import cv2 as cv\n",
    "import numpy as np\n",
    "from Cards import getlevel\n",
    "from Cards import getattribute\n",
    "from Cards import getType\n",
    "from matplotlib import pyplot as plt\n",
    "\n",
    "img = cv.imread('Pictures/SampleCards/Red.jpg')\n",
    "\n",
    "getlevel(img)\n",
    "\n",
    "getattribute(img)\n",
    "\n",
    "getType(img)"
   ]
  },
  {
   "cell_type": "code",
   "execution_count": null,
   "id": "12685dff",
   "metadata": {},
   "outputs": [],
   "source": []
  }
 ],
 "metadata": {
  "kernelspec": {
   "display_name": "Python 3 (ipykernel)",
   "language": "python",
   "name": "python3"
  },
  "language_info": {
   "codemirror_mode": {
    "name": "ipython",
    "version": 3
   },
   "file_extension": ".py",
   "mimetype": "text/x-python",
   "name": "python",
   "nbconvert_exporter": "python",
   "pygments_lexer": "ipython3",
   "version": "3.9.13"
  }
 },
 "nbformat": 4,
 "nbformat_minor": 5
}
